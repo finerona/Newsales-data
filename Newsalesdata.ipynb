{
 "cells": [
  {
   "cell_type": "code",
   "execution_count": 2,
   "id": "75c906b1-5f6e-4220-8dba-ca1a27ba378e",
   "metadata": {},
   "outputs": [],
   "source": [
    "import pandas as pd\n",
    "df=pd.read_csv('sales3Aug24 (1).csv')#import the file as csv"
   ]
  },
  {
   "cell_type": "code",
   "execution_count": 3,
   "id": "a15ba7a9-8c69-41c2-ba43-5b54b822e2ab",
   "metadata": {},
   "outputs": [
    {
     "data": {
      "text/html": [
       "<div>\n",
       "<style scoped>\n",
       "    .dataframe tbody tr th:only-of-type {\n",
       "        vertical-align: middle;\n",
       "    }\n",
       "\n",
       "    .dataframe tbody tr th {\n",
       "        vertical-align: top;\n",
       "    }\n",
       "\n",
       "    .dataframe thead th {\n",
       "        text-align: right;\n",
       "    }\n",
       "</style>\n",
       "<table border=\"1\" class=\"dataframe\">\n",
       "  <thead>\n",
       "    <tr style=\"text-align: right;\">\n",
       "      <th></th>\n",
       "      <th>OrderedAtDate</th>\n",
       "      <th>OrderNoinsert into</th>\n",
       "      <th>CustomerName</th>\n",
       "      <th>Producer</th>\n",
       "      <th>Product</th>\n",
       "      <th>CategoryGroup</th>\n",
       "      <th>Category</th>\n",
       "      <th>Variant</th>\n",
       "      <th>Quantity</th>\n",
       "      <th>Unit Price</th>\n",
       "      <th>shippingStatus</th>\n",
       "      <th>DeliveryAgent</th>\n",
       "      <th>DeliveryDate</th>\n",
       "      <th>CustomerType</th>\n",
       "      <th>OrderChannel</th>\n",
       "    </tr>\n",
       "  </thead>\n",
       "  <tbody>\n",
       "    <tr>\n",
       "      <th>0</th>\n",
       "      <td>12/1/20 17:37</td>\n",
       "      <td>STU-2143266178</td>\n",
       "      <td>Rodam Enterprises</td>\n",
       "      <td>Hayat Kimya Nigeria Limited</td>\n",
       "      <td>Molfix Twin</td>\n",
       "      <td>Baby</td>\n",
       "      <td>Infant Care</td>\n",
       "      <td>Molfix Twin Midi(4-9 Kg) x 36 x 4</td>\n",
       "      <td>2.0</td>\n",
       "      <td>7,000.00</td>\n",
       "      <td>delivered</td>\n",
       "      <td>Maryjane Joel</td>\n",
       "      <td>12/2/20 12:01</td>\n",
       "      <td>General Trade</td>\n",
       "      <td>Mobile App</td>\n",
       "    </tr>\n",
       "    <tr>\n",
       "      <th>1</th>\n",
       "      <td>12/1/20 17:37</td>\n",
       "      <td>STU-2143266178</td>\n",
       "      <td>Rodam Enterprises</td>\n",
       "      <td>Hayat Kimya Nigeria Limited</td>\n",
       "      <td>Molfix Twin</td>\n",
       "      <td>Baby</td>\n",
       "      <td>Infant Care</td>\n",
       "      <td>Molfix Twin Mini(3-6 kg) by 40, pack of 4</td>\n",
       "      <td>1.0</td>\n",
       "      <td>7,000.00</td>\n",
       "      <td>delivered</td>\n",
       "      <td>Maryjane Joel</td>\n",
       "      <td>12/2/20 12:01</td>\n",
       "      <td>General Trade</td>\n",
       "      <td>Mobile App</td>\n",
       "    </tr>\n",
       "    <tr>\n",
       "      <th>2</th>\n",
       "      <td>12/1/20 17:37</td>\n",
       "      <td>STU-2143266178</td>\n",
       "      <td>Rodam Enterprises</td>\n",
       "      <td>Hayat Kimya Nigeria Limited</td>\n",
       "      <td>Molfix Twin</td>\n",
       "      <td>Baby</td>\n",
       "      <td>Infant Care</td>\n",
       "      <td>Molfix Twin Maxi(7-18 kg) by 32, pack of 4</td>\n",
       "      <td>1.0</td>\n",
       "      <td>7,000.00</td>\n",
       "      <td>delivered</td>\n",
       "      <td>Maryjane Joel</td>\n",
       "      <td>12/2/20 12:01</td>\n",
       "      <td>General Trade</td>\n",
       "      <td>Mobile App</td>\n",
       "    </tr>\n",
       "    <tr>\n",
       "      <th>3</th>\n",
       "      <td>12/1/20 16:20</td>\n",
       "      <td>STU-2143266042</td>\n",
       "      <td>O And K Super Store</td>\n",
       "      <td>Hayat Kimya Nigeria Limited</td>\n",
       "      <td>Molfix Twin</td>\n",
       "      <td>Baby</td>\n",
       "      <td>Infant Care</td>\n",
       "      <td>Molfix Twin Midi(4-9 Kg) x 36 x 4</td>\n",
       "      <td>1.0</td>\n",
       "      <td>7,000.00</td>\n",
       "      <td>delivered</td>\n",
       "      <td>Ralia Okwuchukwu</td>\n",
       "      <td>12/2/20 12:08</td>\n",
       "      <td>General Trade</td>\n",
       "      <td>Whatsapp</td>\n",
       "    </tr>\n",
       "    <tr>\n",
       "      <th>4</th>\n",
       "      <td>12/1/20 16:20</td>\n",
       "      <td>STU-2143266042</td>\n",
       "      <td>O And K Super Store</td>\n",
       "      <td>Hayat Kimya Nigeria Limited</td>\n",
       "      <td>Molfix Twin</td>\n",
       "      <td>Baby</td>\n",
       "      <td>Infant Care</td>\n",
       "      <td>Molfix Twin Maxi(7-18 kg) by 32, pack of 4</td>\n",
       "      <td>1.0</td>\n",
       "      <td>7,000.00</td>\n",
       "      <td>delivered</td>\n",
       "      <td>Ralia Okwuchukwu</td>\n",
       "      <td>12/2/20 12:08</td>\n",
       "      <td>General Trade</td>\n",
       "      <td>Whatsapp</td>\n",
       "    </tr>\n",
       "  </tbody>\n",
       "</table>\n",
       "</div>"
      ],
      "text/plain": [
       "  OrderedAtDate  OrderNoinsert into          CustomerName  \\\n",
       "0  12/1/20 17:37      STU-2143266178    Rodam Enterprises   \n",
       "1  12/1/20 17:37      STU-2143266178    Rodam Enterprises   \n",
       "2  12/1/20 17:37      STU-2143266178    Rodam Enterprises   \n",
       "3  12/1/20 16:20      STU-2143266042  O And K Super Store   \n",
       "4  12/1/20 16:20      STU-2143266042  O And K Super Store   \n",
       "\n",
       "                      Producer      Product CategoryGroup     Category  \\\n",
       "0  Hayat Kimya Nigeria Limited  Molfix Twin          Baby  Infant Care   \n",
       "1  Hayat Kimya Nigeria Limited  Molfix Twin          Baby  Infant Care   \n",
       "2  Hayat Kimya Nigeria Limited  Molfix Twin          Baby  Infant Care   \n",
       "3  Hayat Kimya Nigeria Limited  Molfix Twin          Baby  Infant Care   \n",
       "4  Hayat Kimya Nigeria Limited  Molfix Twin          Baby  Infant Care   \n",
       "\n",
       "                                      Variant  Quantity Unit Price  \\\n",
       "0           Molfix Twin Midi(4-9 Kg) x 36 x 4       2.0   7,000.00   \n",
       "1   Molfix Twin Mini(3-6 kg) by 40, pack of 4       1.0   7,000.00   \n",
       "2  Molfix Twin Maxi(7-18 kg) by 32, pack of 4       1.0   7,000.00   \n",
       "3           Molfix Twin Midi(4-9 Kg) x 36 x 4       1.0   7,000.00   \n",
       "4  Molfix Twin Maxi(7-18 kg) by 32, pack of 4       1.0   7,000.00   \n",
       "\n",
       "  shippingStatus     DeliveryAgent   DeliveryDate   CustomerType OrderChannel  \n",
       "0      delivered     Maryjane Joel  12/2/20 12:01  General Trade   Mobile App  \n",
       "1      delivered     Maryjane Joel  12/2/20 12:01  General Trade   Mobile App  \n",
       "2      delivered     Maryjane Joel  12/2/20 12:01  General Trade   Mobile App  \n",
       "3      delivered  Ralia Okwuchukwu  12/2/20 12:08  General Trade     Whatsapp  \n",
       "4      delivered  Ralia Okwuchukwu  12/2/20 12:08  General Trade     Whatsapp  "
      ]
     },
     "execution_count": 3,
     "metadata": {},
     "output_type": "execute_result"
    }
   ],
   "source": [
    "df.head()#checking the first five rows in the data"
   ]
  },
  {
   "cell_type": "code",
   "execution_count": 4,
   "id": "1d8296ca-00aa-483d-9527-4cab612be0cd",
   "metadata": {},
   "outputs": [
    {
     "name": "stdout",
     "output_type": "stream",
     "text": [
      "<class 'pandas.core.frame.DataFrame'>\n",
      "RangeIndex: 2046 entries, 0 to 2045\n",
      "Data columns (total 15 columns):\n",
      " #   Column               Non-Null Count  Dtype  \n",
      "---  ------               --------------  -----  \n",
      " 0   OrderedAtDate        2046 non-null   object \n",
      " 1   OrderNoinsert into   2046 non-null   object \n",
      " 2   CustomerName         2046 non-null   object \n",
      " 3   Producer             2046 non-null   object \n",
      " 4   Product              2046 non-null   object \n",
      " 5   CategoryGroup        2046 non-null   object \n",
      " 6   Category             2046 non-null   object \n",
      " 7   Variant              2046 non-null   object \n",
      " 8   Quantity             2046 non-null   float64\n",
      " 9   Unit Price           2046 non-null   object \n",
      " 10  shippingStatus       2046 non-null   object \n",
      " 11  DeliveryAgent        1914 non-null   object \n",
      " 12  DeliveryDate         1790 non-null   object \n",
      " 13  CustomerType         2046 non-null   object \n",
      " 14  OrderChannel         2046 non-null   object \n",
      "dtypes: float64(1), object(14)\n",
      "memory usage: 239.9+ KB\n"
     ]
    }
   ],
   "source": [
    "df.info()#checking the column information/data types"
   ]
  },
  {
   "cell_type": "code",
   "execution_count": 5,
   "id": "90141e19-9316-4ee3-a107-ca750afb0030",
   "metadata": {},
   "outputs": [
    {
     "data": {
      "text/plain": [
       "Index(['OrderedAtDate ', 'OrderNoinsert into ', 'CustomerName', 'Producer',\n",
       "       'Product', 'CategoryGroup', 'Category', 'Variant', 'Quantity',\n",
       "       'Unit Price', 'shippingStatus', 'DeliveryAgent', 'DeliveryDate',\n",
       "       'CustomerType', 'OrderChannel'],\n",
       "      dtype='object')"
      ]
     },
     "execution_count": 5,
     "metadata": {},
     "output_type": "execute_result"
    }
   ],
   "source": [
    "df.columns#listing the columns "
   ]
  },
  {
   "cell_type": "code",
   "execution_count": null,
   "id": "371a8536-7f05-48a1-867b-3b1a7c930f0e",
   "metadata": {},
   "outputs": [],
   "source": [
    "##assigning the df to a newdf with the required columns"
   ]
  },
  {
   "cell_type": "code",
   "execution_count": 6,
   "id": "56cbb5a0-f7e6-4248-892d-d98ce45d7465",
   "metadata": {},
   "outputs": [],
   "source": [
    "newdf = df[['OrderedAtDate ','CategoryGroup','Product','Category','Quantity','Unit Price','shippingStatus','DeliveryDate', 'CustomerType','OrderChannel']]"
   ]
  },
  {
   "cell_type": "code",
   "execution_count": 7,
   "id": "5e793a51-8b09-4a3d-90b1-99dba03924cc",
   "metadata": {},
   "outputs": [
    {
     "data": {
      "text/html": [
       "<div>\n",
       "<style scoped>\n",
       "    .dataframe tbody tr th:only-of-type {\n",
       "        vertical-align: middle;\n",
       "    }\n",
       "\n",
       "    .dataframe tbody tr th {\n",
       "        vertical-align: top;\n",
       "    }\n",
       "\n",
       "    .dataframe thead th {\n",
       "        text-align: right;\n",
       "    }\n",
       "</style>\n",
       "<table border=\"1\" class=\"dataframe\">\n",
       "  <thead>\n",
       "    <tr style=\"text-align: right;\">\n",
       "      <th></th>\n",
       "      <th>OrderedAtDate</th>\n",
       "      <th>CategoryGroup</th>\n",
       "      <th>Product</th>\n",
       "      <th>Category</th>\n",
       "      <th>Quantity</th>\n",
       "      <th>Unit Price</th>\n",
       "      <th>shippingStatus</th>\n",
       "      <th>DeliveryDate</th>\n",
       "      <th>CustomerType</th>\n",
       "      <th>OrderChannel</th>\n",
       "    </tr>\n",
       "  </thead>\n",
       "  <tbody>\n",
       "    <tr>\n",
       "      <th>0</th>\n",
       "      <td>12/1/20 17:37</td>\n",
       "      <td>Baby</td>\n",
       "      <td>Molfix Twin</td>\n",
       "      <td>Infant Care</td>\n",
       "      <td>2.0</td>\n",
       "      <td>7,000.00</td>\n",
       "      <td>delivered</td>\n",
       "      <td>12/2/20 12:01</td>\n",
       "      <td>General Trade</td>\n",
       "      <td>Mobile App</td>\n",
       "    </tr>\n",
       "    <tr>\n",
       "      <th>1</th>\n",
       "      <td>12/1/20 17:37</td>\n",
       "      <td>Baby</td>\n",
       "      <td>Molfix Twin</td>\n",
       "      <td>Infant Care</td>\n",
       "      <td>1.0</td>\n",
       "      <td>7,000.00</td>\n",
       "      <td>delivered</td>\n",
       "      <td>12/2/20 12:01</td>\n",
       "      <td>General Trade</td>\n",
       "      <td>Mobile App</td>\n",
       "    </tr>\n",
       "    <tr>\n",
       "      <th>2</th>\n",
       "      <td>12/1/20 17:37</td>\n",
       "      <td>Baby</td>\n",
       "      <td>Molfix Twin</td>\n",
       "      <td>Infant Care</td>\n",
       "      <td>1.0</td>\n",
       "      <td>7,000.00</td>\n",
       "      <td>delivered</td>\n",
       "      <td>12/2/20 12:01</td>\n",
       "      <td>General Trade</td>\n",
       "      <td>Mobile App</td>\n",
       "    </tr>\n",
       "    <tr>\n",
       "      <th>3</th>\n",
       "      <td>12/1/20 16:20</td>\n",
       "      <td>Baby</td>\n",
       "      <td>Molfix Twin</td>\n",
       "      <td>Infant Care</td>\n",
       "      <td>1.0</td>\n",
       "      <td>7,000.00</td>\n",
       "      <td>delivered</td>\n",
       "      <td>12/2/20 12:08</td>\n",
       "      <td>General Trade</td>\n",
       "      <td>Whatsapp</td>\n",
       "    </tr>\n",
       "    <tr>\n",
       "      <th>4</th>\n",
       "      <td>12/1/20 16:20</td>\n",
       "      <td>Baby</td>\n",
       "      <td>Molfix Twin</td>\n",
       "      <td>Infant Care</td>\n",
       "      <td>1.0</td>\n",
       "      <td>7,000.00</td>\n",
       "      <td>delivered</td>\n",
       "      <td>12/2/20 12:08</td>\n",
       "      <td>General Trade</td>\n",
       "      <td>Whatsapp</td>\n",
       "    </tr>\n",
       "  </tbody>\n",
       "</table>\n",
       "</div>"
      ],
      "text/plain": [
       "  OrderedAtDate  CategoryGroup      Product     Category  Quantity Unit Price  \\\n",
       "0  12/1/20 17:37          Baby  Molfix Twin  Infant Care       2.0   7,000.00   \n",
       "1  12/1/20 17:37          Baby  Molfix Twin  Infant Care       1.0   7,000.00   \n",
       "2  12/1/20 17:37          Baby  Molfix Twin  Infant Care       1.0   7,000.00   \n",
       "3  12/1/20 16:20          Baby  Molfix Twin  Infant Care       1.0   7,000.00   \n",
       "4  12/1/20 16:20          Baby  Molfix Twin  Infant Care       1.0   7,000.00   \n",
       "\n",
       "  shippingStatus   DeliveryDate   CustomerType OrderChannel  \n",
       "0      delivered  12/2/20 12:01  General Trade   Mobile App  \n",
       "1      delivered  12/2/20 12:01  General Trade   Mobile App  \n",
       "2      delivered  12/2/20 12:01  General Trade   Mobile App  \n",
       "3      delivered  12/2/20 12:08  General Trade     Whatsapp  \n",
       "4      delivered  12/2/20 12:08  General Trade     Whatsapp  "
      ]
     },
     "execution_count": 7,
     "metadata": {},
     "output_type": "execute_result"
    }
   ],
   "source": [
    "newdf.head()"
   ]
  },
  {
   "cell_type": "code",
   "execution_count": 19,
   "id": "3a6593f2-47d2-47f8-8d77-79e802433af7",
   "metadata": {},
   "outputs": [
    {
     "name": "stderr",
     "output_type": "stream",
     "text": [
      "C:\\Users\\Dell\\AppData\\Local\\Temp\\ipykernel_12156\\1260431121.py:1: SettingWithCopyWarning: \n",
      "A value is trying to be set on a copy of a slice from a DataFrame.\n",
      "Try using .loc[row_indexer,col_indexer] = value instead\n",
      "\n",
      "See the caveats in the documentation: https://pandas.pydata.org/pandas-docs/stable/user_guide/indexing.html#returning-a-view-versus-a-copy\n",
      "  newdf['Unit Price'] = newdf['Unit Price'].str.replace(',','').astype(float)\n"
     ]
    }
   ],
   "source": [
    "newdf['Unit Price'] = newdf['Unit Price'].str.replace(',','').astype(float)#replacing and coverting unit price to float for caculation"
   ]
  },
  {
   "cell_type": "code",
   "execution_count": 21,
   "id": "5c402157-ef69-479e-990d-962cdec01c61",
   "metadata": {},
   "outputs": [
    {
     "name": "stderr",
     "output_type": "stream",
     "text": [
      "C:\\Users\\Dell\\AppData\\Local\\Temp\\ipykernel_12156\\1242364675.py:1: SettingWithCopyWarning: \n",
      "A value is trying to be set on a copy of a slice from a DataFrame.\n",
      "Try using .loc[row_indexer,col_indexer] = value instead\n",
      "\n",
      "See the caveats in the documentation: https://pandas.pydata.org/pandas-docs/stable/user_guide/indexing.html#returning-a-view-versus-a-copy\n",
      "  newdf['Sales'] = newdf['Unit Price'] * newdf['Quantity']\n"
     ]
    }
   ],
   "source": [
    "newdf['Sales'] = newdf['Unit Price'] * newdf['Quantity']#creating a new column sales by multiplyinng untit price * Quantity"
   ]
  },
  {
   "cell_type": "code",
   "execution_count": 24,
   "id": "ca7f6f76-cea8-4bbc-9154-71013b4cf217",
   "metadata": {},
   "outputs": [
    {
     "name": "stderr",
     "output_type": "stream",
     "text": [
      "C:\\Users\\Dell\\AppData\\Local\\Temp\\ipykernel_12156\\799444732.py:1: SettingWithCopyWarning: \n",
      "A value is trying to be set on a copy of a slice from a DataFrame.\n",
      "Try using .loc[row_indexer,col_indexer] = value instead\n",
      "\n",
      "See the caveats in the documentation: https://pandas.pydata.org/pandas-docs/stable/user_guide/indexing.html#returning-a-view-versus-a-copy\n",
      "  newdf['DeliveryDate'] = newdf['DeliveryDate'].astype(str).replace('nan', 'Not specified')\n"
     ]
    }
   ],
   "source": [
    "newdf['DeliveryDate'] = newdf['DeliveryDate'].astype(str).replace('nan', 'Not specified')#replacing nan values on DeliveryDate"
   ]
  },
  {
   "cell_type": "code",
   "execution_count": 27,
   "id": "d0ee3f65-acef-42fc-8175-72374b7e0bfb",
   "metadata": {},
   "outputs": [
    {
     "data": {
      "text/html": [
       "<div>\n",
       "<style scoped>\n",
       "    .dataframe tbody tr th:only-of-type {\n",
       "        vertical-align: middle;\n",
       "    }\n",
       "\n",
       "    .dataframe tbody tr th {\n",
       "        vertical-align: top;\n",
       "    }\n",
       "\n",
       "    .dataframe thead th {\n",
       "        text-align: right;\n",
       "    }\n",
       "</style>\n",
       "<table border=\"1\" class=\"dataframe\">\n",
       "  <thead>\n",
       "    <tr style=\"text-align: right;\">\n",
       "      <th></th>\n",
       "      <th>OrderedAtDate</th>\n",
       "      <th>CategoryGroup</th>\n",
       "      <th>Product</th>\n",
       "      <th>Category</th>\n",
       "      <th>Quantity</th>\n",
       "      <th>Unit Price</th>\n",
       "      <th>shippingStatus</th>\n",
       "      <th>DeliveryDate</th>\n",
       "      <th>CustomerType</th>\n",
       "      <th>OrderChannel</th>\n",
       "      <th>Sales</th>\n",
       "    </tr>\n",
       "  </thead>\n",
       "  <tbody>\n",
       "    <tr>\n",
       "      <th>0</th>\n",
       "      <td>12/1/20 17:37</td>\n",
       "      <td>Baby</td>\n",
       "      <td>Molfix Twin</td>\n",
       "      <td>Infant Care</td>\n",
       "      <td>2.0</td>\n",
       "      <td>7000.0</td>\n",
       "      <td>delivered</td>\n",
       "      <td>12/2/20 12:01</td>\n",
       "      <td>General Trade</td>\n",
       "      <td>Mobile App</td>\n",
       "      <td>14000.0</td>\n",
       "    </tr>\n",
       "    <tr>\n",
       "      <th>1</th>\n",
       "      <td>12/1/20 17:37</td>\n",
       "      <td>Baby</td>\n",
       "      <td>Molfix Twin</td>\n",
       "      <td>Infant Care</td>\n",
       "      <td>1.0</td>\n",
       "      <td>7000.0</td>\n",
       "      <td>delivered</td>\n",
       "      <td>12/2/20 12:01</td>\n",
       "      <td>General Trade</td>\n",
       "      <td>Mobile App</td>\n",
       "      <td>7000.0</td>\n",
       "    </tr>\n",
       "    <tr>\n",
       "      <th>2</th>\n",
       "      <td>12/1/20 17:37</td>\n",
       "      <td>Baby</td>\n",
       "      <td>Molfix Twin</td>\n",
       "      <td>Infant Care</td>\n",
       "      <td>1.0</td>\n",
       "      <td>7000.0</td>\n",
       "      <td>delivered</td>\n",
       "      <td>12/2/20 12:01</td>\n",
       "      <td>General Trade</td>\n",
       "      <td>Mobile App</td>\n",
       "      <td>7000.0</td>\n",
       "    </tr>\n",
       "    <tr>\n",
       "      <th>3</th>\n",
       "      <td>12/1/20 16:20</td>\n",
       "      <td>Baby</td>\n",
       "      <td>Molfix Twin</td>\n",
       "      <td>Infant Care</td>\n",
       "      <td>1.0</td>\n",
       "      <td>7000.0</td>\n",
       "      <td>delivered</td>\n",
       "      <td>12/2/20 12:08</td>\n",
       "      <td>General Trade</td>\n",
       "      <td>Whatsapp</td>\n",
       "      <td>7000.0</td>\n",
       "    </tr>\n",
       "    <tr>\n",
       "      <th>4</th>\n",
       "      <td>12/1/20 16:20</td>\n",
       "      <td>Baby</td>\n",
       "      <td>Molfix Twin</td>\n",
       "      <td>Infant Care</td>\n",
       "      <td>1.0</td>\n",
       "      <td>7000.0</td>\n",
       "      <td>delivered</td>\n",
       "      <td>12/2/20 12:08</td>\n",
       "      <td>General Trade</td>\n",
       "      <td>Whatsapp</td>\n",
       "      <td>7000.0</td>\n",
       "    </tr>\n",
       "  </tbody>\n",
       "</table>\n",
       "</div>"
      ],
      "text/plain": [
       "  OrderedAtDate  CategoryGroup      Product     Category  Quantity  \\\n",
       "0  12/1/20 17:37          Baby  Molfix Twin  Infant Care       2.0   \n",
       "1  12/1/20 17:37          Baby  Molfix Twin  Infant Care       1.0   \n",
       "2  12/1/20 17:37          Baby  Molfix Twin  Infant Care       1.0   \n",
       "3  12/1/20 16:20          Baby  Molfix Twin  Infant Care       1.0   \n",
       "4  12/1/20 16:20          Baby  Molfix Twin  Infant Care       1.0   \n",
       "\n",
       "   Unit Price shippingStatus   DeliveryDate   CustomerType OrderChannel  \\\n",
       "0      7000.0      delivered  12/2/20 12:01  General Trade   Mobile App   \n",
       "1      7000.0      delivered  12/2/20 12:01  General Trade   Mobile App   \n",
       "2      7000.0      delivered  12/2/20 12:01  General Trade   Mobile App   \n",
       "3      7000.0      delivered  12/2/20 12:08  General Trade     Whatsapp   \n",
       "4      7000.0      delivered  12/2/20 12:08  General Trade     Whatsapp   \n",
       "\n",
       "     Sales  \n",
       "0  14000.0  \n",
       "1   7000.0  \n",
       "2   7000.0  \n",
       "3   7000.0  \n",
       "4   7000.0  "
      ]
     },
     "execution_count": 27,
     "metadata": {},
     "output_type": "execute_result"
    }
   ],
   "source": [
    "newdf.head()"
   ]
  },
  {
   "cell_type": "code",
   "execution_count": 28,
   "id": "9f54dc9a-2f87-479d-a57d-026073cbb56c",
   "metadata": {},
   "outputs": [
    {
     "data": {
      "text/plain": [
       "CategoryGroup\n",
       "Breakfast & Snacks        1044\n",
       "Home Care                  500\n",
       "Food                       310\n",
       "Baby                       135\n",
       "Beauty & Personal Care      57\n",
       "Name: count, dtype: int64"
      ]
     },
     "execution_count": 28,
     "metadata": {},
     "output_type": "execute_result"
    }
   ],
   "source": [
    "newdf['CategoryGroup'].value_counts()#exploring the details in the column categoryGroup"
   ]
  },
  {
   "cell_type": "code",
   "execution_count": 29,
   "id": "3f9619dd-0a48-410b-a4df-bba773766afe",
   "metadata": {},
   "outputs": [
    {
     "data": {
      "text/plain": [
       "Product\n",
       "Nestle Milo                     186\n",
       "Good Mama Cleaning Detergent    153\n",
       "Dano Cool Cow                   139\n",
       "Peak Milk                       115\n",
       "Nestle Golden Morn              100\n",
       "                               ... \n",
       "NAN Infant Formula                2\n",
       "Eva Bar Soap                      1\n",
       "Nescafe                           1\n",
       "Nestle Cerelac                    1\n",
       "Oral B Toothpaste                 1\n",
       "Name: count, Length: 62, dtype: int64"
      ]
     },
     "execution_count": 29,
     "metadata": {},
     "output_type": "execute_result"
    }
   ],
   "source": [
    " newdf['Product'].value_counts()#exploring the details in the column product"
   ]
  },
  {
   "cell_type": "code",
   "execution_count": 30,
   "id": "3467f74d-169a-49ea-9a42-982439adb54b",
   "metadata": {},
   "outputs": [
    {
     "data": {
      "text/plain": [
       "OrderChannel\n",
       "Whatsapp      1401\n",
       "Mobile App     606\n",
       "Web App         33\n",
       "USSD             6\n",
       "Name: count, dtype: int64"
      ]
     },
     "execution_count": 30,
     "metadata": {},
     "output_type": "execute_result"
    }
   ],
   "source": [
    "newdf['OrderChannel'].value_counts()#exploring the details in the column OrderChannel"
   ]
  },
  {
   "cell_type": "code",
   "execution_count": 31,
   "id": "8b5ae7c3-ac04-44f7-8e07-5a6ffe1da414",
   "metadata": {},
   "outputs": [
    {
     "data": {
      "text/plain": [
       "shippingStatus\n",
       "delivered    1790\n",
       "cancelled     256\n",
       "Name: count, dtype: int64"
      ]
     },
     "execution_count": 31,
     "metadata": {},
     "output_type": "execute_result"
    }
   ],
   "source": [
    "newdf['shippingStatus'].value_counts()#exploring the details in the column shippingStatus"
   ]
  },
  {
   "cell_type": "code",
   "execution_count": 32,
   "id": "85e23cd5-4b69-4b86-8d5b-3e9c4b5a767b",
   "metadata": {},
   "outputs": [
    {
     "data": {
      "text/plain": [
       "OrderChannel\n",
       "Whatsapp      1401\n",
       "Mobile App     606\n",
       "Web App         33\n",
       "USSD             6\n",
       "Name: count, dtype: int64"
      ]
     },
     "execution_count": 32,
     "metadata": {},
     "output_type": "execute_result"
    }
   ],
   "source": [
    "newdf['OrderChannel'].value_counts()#exploring the details in the column OrderChannel"
   ]
  },
  {
   "cell_type": "code",
   "execution_count": 33,
   "id": "e665e3f8-cebf-48d8-b8ba-bf8ef3e6bf29",
   "metadata": {},
   "outputs": [
    {
     "data": {
      "text/plain": [
       "CustomerType\n",
       "General Trade    1660\n",
       "Wholesale         307\n",
       "Modern Trade       79\n",
       "Name: count, dtype: int64"
      ]
     },
     "execution_count": 33,
     "metadata": {},
     "output_type": "execute_result"
    }
   ],
   "source": [
    "newdf['CustomerType'].value_counts()#exploring the details in the column customerType"
   ]
  },
  {
   "cell_type": "code",
   "execution_count": 35,
   "id": "908da5cb-16ae-4fee-a16f-79fc6cc38f22",
   "metadata": {},
   "outputs": [
    {
     "data": {
      "text/plain": [
       "OrderedAtDate     0\n",
       "CategoryGroup     0\n",
       "Product           0\n",
       "Category          0\n",
       "Quantity          0\n",
       "Unit Price        0\n",
       "shippingStatus    0\n",
       "DeliveryDate      0\n",
       "CustomerType      0\n",
       "OrderChannel      0\n",
       "Sales             0\n",
       "dtype: int64"
      ]
     },
     "execution_count": 35,
     "metadata": {},
     "output_type": "execute_result"
    }
   ],
   "source": [
    " newdf.isna().sum()#checking the data for nan values"
   ]
  },
  {
   "cell_type": "code",
   "execution_count": 37,
   "id": "54d75a42-d926-4e6a-bd43-33048a650d8f",
   "metadata": {},
   "outputs": [],
   "source": [
    "newdf.to_csv('CleanedNewsalesdata.csv', index=False)"
   ]
  },
  {
   "cell_type": "code",
   "execution_count": 39,
   "id": "e573413a-e706-44ae-857c-1b7634333e0a",
   "metadata": {},
   "outputs": [
    {
     "data": {
      "text/plain": [
       "OrderedAtDate \n",
       "12/4/20 17:28     65\n",
       "12/16/20 16:23    22\n",
       "12/14/20 15:29    19\n",
       "12/4/20 11:31     18\n",
       "12/6/20 18:53     15\n",
       "                  ..\n",
       "12/18/20 11:12     1\n",
       "12/14/20 19:08     1\n",
       "12/5/20 14:21      1\n",
       "12/4/20 17:41      1\n",
       "12/4/20 9:45       1\n",
       "Name: count, Length: 610, dtype: int64"
      ]
     },
     "execution_count": 39,
     "metadata": {},
     "output_type": "execute_result"
    }
   ],
   "source": [
    "newdf['OrderedAtDate '].value_counts()"
   ]
  },
  {
   "cell_type": "code",
   "execution_count": null,
   "id": "dcf49002-ce9d-4415-9ea1-be271758d252",
   "metadata": {},
   "outputs": [],
   "source": []
  }
 ],
 "metadata": {
  "kernelspec": {
   "display_name": "Python 3 (ipykernel)",
   "language": "python",
   "name": "python3"
  },
  "language_info": {
   "codemirror_mode": {
    "name": "ipython",
    "version": 3
   },
   "file_extension": ".py",
   "mimetype": "text/x-python",
   "name": "python",
   "nbconvert_exporter": "python",
   "pygments_lexer": "ipython3",
   "version": "3.11.7"
  }
 },
 "nbformat": 4,
 "nbformat_minor": 5
}
